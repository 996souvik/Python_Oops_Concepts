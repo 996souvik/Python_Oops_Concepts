{
 "cells": [
  {
   "cell_type": "markdown",
   "id": "81ebdedf",
   "metadata": {},
   "source": [
    "<h1 style=\"color:#ff0000;font-size:42px;font-family:initial;text-align:center;\"><strong><b>Python </b><strong style=\"color:#005aac;font-size:42px;font-family:initial;\"><b>Oops </b><strong style=\"color:#ff0000;font-size:42px;font-family:initial;\"><b>Concepts</b></strong></strong></strong></h1>"
   ]
  },
  {
   "cell_type": "markdown",
   "id": "211d697d",
   "metadata": {},
   "source": [
    "# Why we use?\n",
    "## --> We use Oops concepts for \"Real world entity.\"\n"
   ]
  },
  {
   "cell_type": "markdown",
   "id": "a638f6e5",
   "metadata": {},
   "source": [
    "# 1. Class & Object\n",
    "### --> Class is a blueprint of Object. \n",
    "### --> Take a e.g: Of A company... \n",
    "### --> Make a Class manager()\n",
    "\n"
   ]
  },
  {
   "cell_type": "code",
   "execution_count": 1,
   "id": "1deaf898",
   "metadata": {},
   "outputs": [
    {
     "name": "stdout",
     "output_type": "stream",
     "text": [
      "Enter employee id22\n",
      "Enter employee names\n",
      "Enter employee salary45\n",
      "employee id: 22\n",
      "employee name: s\n",
      "employee salary: 45.0\n"
     ]
    }
   ],
   "source": [
    "class employee:\n",
    "    def putdata(self): #we make a function or method\n",
    "        self.id=int(input(\"Enter employee id\")) #attributes or properties\n",
    "        self.name=input(\"Enter employee name\")\n",
    "        self.salary=float(input(\"Enter employee salary\"))\n",
    "    \n",
    "    def display(self):\n",
    "        print(\"employee id:\",self.id)\n",
    "        print(\"employee name:\",self.name) #Funtions\n",
    "        print(\"employee salary:\",self.salary) #BluePrint\n",
    "        \n",
    "manager=employee() #Make a object #OBJ_NAME=CLASS_NAME\n",
    "manager.putdata() #datain\n",
    "manager.display() #dataout\n",
    "\n",
    "    "
   ]
  },
  {
   "cell_type": "code",
   "execution_count": 9,
   "id": "b1a01099",
   "metadata": {},
   "outputs": [
    {
     "name": "stdout",
     "output_type": "stream",
     "text": [
      "Enter Device ID: 1\n",
      "Enter Device Name: i phone 15 plus\n",
      "Enter Device Location: kolkata \n",
      "Enter Device IP address: 127.0.0.0.0\n",
      "Device ID:  1\n",
      "Device Name:  i phone 15 plus\n",
      "Device Location:  kolkata \n",
      "Device IP:  127.0.0.0.0\n"
     ]
    }
   ],
   "source": [
    "class VI_5G:\n",
    "    def putdata(self): #With self function we made a function call\n",
    "        self.id = int(input(\"Enter Device ID: \"))\n",
    "        self.name = input(\"Enter Device Name: \")\n",
    "        self.location = input(\"Enter Device Location: \")\n",
    "        self.ip = input(\"Enter Device IP address: \") #this 4 are properties\n",
    "\n",
    "    def display(self):\n",
    "        print(\"Device ID: \", self.id)\n",
    "        print(\"Device Name: \", self.name)\n",
    "        print(\"Device Location: \", self.location)\n",
    "        print(\"Device IP: \", self.ip) #This is a bluePrint\n",
    "\n",
    "# Create an instance of the class\n",
    "customer = VI_5G()\n",
    "customer.putdata()\n",
    "customer.display() #This is implementation \n"
   ]
  },
  {
   "cell_type": "code",
   "execution_count": 3,
   "id": "6c72ea56",
   "metadata": {},
   "outputs": [
    {
     "name": "stdout",
     "output_type": "stream",
     "text": [
      "50\n"
     ]
    }
   ],
   "source": [
    "##say a exzample\n",
    "class first:\n",
    "    x= 50\n",
    "obj=first()\n",
    "print(obj.x)"
   ]
  },
  {
   "cell_type": "markdown",
   "id": "818c12f3",
   "metadata": {},
   "source": [
    "Make a faculty method: (assignemnt)"
   ]
  },
  {
   "cell_type": "code",
   "execution_count": 4,
   "id": "42776674",
   "metadata": {},
   "outputs": [
    {
     "name": "stdout",
     "output_type": "stream",
     "text": [
      "Enter faculty id99\n",
      "Enter faculty nameo\n",
      "Enter faculty salary0\n",
      "faculty id: 99\n",
      "faculty name: o\n",
      "faculty salary: 0.0\n"
     ]
    }
   ],
   "source": [
    "class faculty:\n",
    "    def putdata(self): #we make a function or method\n",
    "        self.id=int(input(\"Enter faculty id\")) #attributes\n",
    "        self.name=input(\"Enter faculty name\")\n",
    "        self.salary=float(input(\"Enter faculty salary\"))\n",
    "    \n",
    "    def display(self):\n",
    "        print(\"faculty id:\",self.id)\n",
    "        print(\"faculty name:\",self.name)\n",
    "        print(\"faculty salary:\",self.salary) #BluePrint\n",
    "        \n",
    "a=faculty() #Make a object #OBJ_NAME=CLASS_NAME\n",
    "a.putdata() #datain\n",
    "a.display() #dataout\n",
    "\n",
    "    "
   ]
  },
  {
   "cell_type": "markdown",
   "id": "cdd69af6",
   "metadata": {},
   "source": [
    "class student: #data #and then functions __init__(Dunder)\n",
    "Step: 1--> Objbect empty \n",
    "Step: 2--> Use self\n",
    "step: 3--> And under self all functions and vauls are stored\n",
    "step: 4--> now make a function\n",
    "    "
   ]
  },
  {
   "cell_type": "code",
   "execution_count": 6,
   "id": "4f372829",
   "metadata": {},
   "outputs": [
    {
     "name": "stdout",
     "output_type": "stream",
     "text": [
      "Enter bank name: sbi\n",
      "Enter bank location: saltlake\n",
      "Enter bank ifsc: 445566\n",
      "<__main__.RBI object at 0x000001FDD607C790>\n"
     ]
    }
   ],
   "source": [
    "class RBI:\n",
    "    def __init__(self, bank_name, bank_location, bank_ifsc):\n",
    "        self.name=input(\"Enter bank name: \")\n",
    "        self.location=input(\"Enter bank location: \")\n",
    "        self.ifsc=float(input(\"Enter bank ifsc: \"))\n",
    "        \n",
    "bank=RBI('SBI', 'SALTLAKE', 788909099474)\n",
    "print(bank)"
   ]
  },
  {
   "cell_type": "code",
   "execution_count": 7,
   "id": "eaae777c",
   "metadata": {},
   "outputs": [],
   "source": [
    "class arka:\n",
    "    def putdata(self):\n",
    "        pass ##if we dont need anything\n",
    "\n",
    "obj=arka()"
   ]
  },
  {
   "cell_type": "markdown",
   "id": "705650fc",
   "metadata": {},
   "source": [
    "<a id=\"1\"></a>\n",
    "<h2 style=\"color:#ff0000;font-size:30px;font-family:initial;text-align:center;\"><strong><strong style=\"color:#005aac;font-size:30px;font-family:initial;\"><b>Constructor</b><strong style=\"color:#ff0000;font-size:30px;font-family:initial;\">:</strong></strong></strong></h2>"
   ]
  },
  {
   "cell_type": "markdown",
   "id": "3b8b37ee",
   "metadata": {},
   "source": [
    "Call class and it automatically called an object\n",
    "__init__ is to initialize attributes of an objects.\n"
   ]
  },
  {
   "cell_type": "code",
   "execution_count": 8,
   "id": "5a72eb11",
   "metadata": {},
   "outputs": [
    {
     "name": "stdout",
     "output_type": "stream",
     "text": [
      "faculty id: 1\n",
      "faculty name: souvik\n",
      "faculty salary: 67000\n"
     ]
    }
   ],
   "source": [
    "class faculty:\n",
    "    def __init__(self,a,b,c):\n",
    "        self.f_id=a\n",
    "        self.name=b\n",
    "        self.salary=c\n",
    "    def display(self):\n",
    "        print(\"faculty id:\",self.f_id)\n",
    "        print(\"faculty name:\",self.name)\n",
    "        print(\"faculty salary:\",self.salary)\n",
    "\n",
    "    \n",
    "a=faculty(1,\"souvik\",67000)\n",
    "a.display()"
   ]
  },
  {
   "cell_type": "code",
   "execution_count": 9,
   "id": "c1ba5068",
   "metadata": {},
   "outputs": [
    {
     "name": "stdout",
     "output_type": "stream",
     "text": [
      "faculty id: 1\n",
      "faculty name: souvik\n",
      "faculty salary: 67000\n"
     ]
    }
   ],
   "source": [
    "class faculty:\n",
    "    def __init__(self,a,b,c):\n",
    "        self.f_id=a\n",
    "        self.name=b\n",
    "        self.salary=c\n",
    "    def display(self):\n",
    "        print(\"faculty id:\",self.f_id)\n",
    "        print(\"faculty name:\",self.name)\n",
    "        print(\"faculty salary:\",self.salary)\n",
    "\n",
    "    \n",
    "a=faculty(1,\"souvik\",67000)\n",
    "a.display()\n"
   ]
  },
  {
   "cell_type": "markdown",
   "id": "5b3d5705",
   "metadata": {},
   "source": [
    "<a id=\"1\"></a>\n",
    "<h2 style=\"color:#ff0000;font-size:30px;font-family:initial;text-align:center;\"><strong><strong style=\"color:#005aac;font-size:30px;font-family:initial;\"><b>Inheritence</b><strong style=\"color:#ff0000;font-size:30px;font-family:initial;\">:</strong></strong></strong></h2>"
   ]
  },
  {
   "cell_type": "markdown",
   "id": "020a71bb",
   "metadata": {},
   "source": [
    "##Parent class(Super class)\n",
    "##Child class(Sub Class)\n",
    "-->> Like we use our parents properties\n",
    "\n"
   ]
  },
  {
   "cell_type": "code",
   "execution_count": 10,
   "id": "66f2ae6e",
   "metadata": {},
   "outputs": [
    {
     "name": "stdout",
     "output_type": "stream",
     "text": [
      "faculty id: 1\n",
      "faculty name: souvik\n",
      "faculty salary: 67000\n",
      "faculty id: 2\n",
      "faculty name: Lopa\n",
      "faculty salary: 83000\n"
     ]
    }
   ],
   "source": [
    "class faculty:\n",
    "    def __init__(self,a,b,c):\n",
    "        self.f_id=a\n",
    "        self.name=b\n",
    "        self.salary=c\n",
    "    def display(self):\n",
    "        print(\"faculty id:\",self.f_id)\n",
    "        print(\"faculty name:\",self.name)\n",
    "        print(\"faculty salary:\",self.salary)\n",
    "\n",
    "    \n",
    "a=faculty(1,\"souvik\",67000)\n",
    "a.display()\n",
    "class faculty:\n",
    "    def __init__(self,a,b,c):\n",
    "        self.f_id=a\n",
    "        self.name=b\n",
    "        self.salary=c\n",
    "    def display(self):\n",
    "        print(\"faculty id:\",self.f_id)\n",
    "        print(\"faculty name:\",self.name)\n",
    "        print(\"faculty salary:\",self.salary)\n",
    "\n",
    "    \n",
    "a=faculty(2,\"Lopa\",83000) #Intense creations\n",
    "a.display()"
   ]
  },
  {
   "cell_type": "code",
   "execution_count": 17,
   "id": "d9bfb660",
   "metadata": {},
   "outputs": [
    {
     "name": "stdout",
     "output_type": "stream",
     "text": [
      "Name: LOPAMUDRA DEY, Age: 21, Employee ID: 7889, Department: SOFTWARE ENG, Team Size: 10\n"
     ]
    }
   ],
   "source": [
    "class Person:\n",
    "    def __init__(self, name, age): #Dunder\n",
    "        self.name = name\n",
    "        self.age = age\n",
    "\n",
    "    def display_person_info(self):\n",
    "        return f\"Name: {self.name}, Age: {self.age}\"\n",
    "        \n",
    "\n",
    "class Employee:\n",
    "    def __init__(self, employee_id, department):\n",
    "        self.employee_id = employee_id\n",
    "        self.department = department\n",
    "\n",
    "    def display_employee_info(self):\n",
    "        return f\"Employee ID: {self.employee_id}, Department: {self.department}\"\n",
    "\n",
    "class Manager(Person, Employee):\n",
    "    def __init__(self, name, age, employee_id, department, team_size):\n",
    "        super().__init__(name, age)\n",
    "        Employee.__init__(self, employee_id, department)\n",
    "        self.team_size = team_size\n",
    "\n",
    "    def display_manager_info(self):\n",
    "        person_info = self.display_person_info()\n",
    "        employee_info = self.display_employee_info()\n",
    "        return f\"{person_info}, {employee_info}, Team Size: {self.team_size}\"\n",
    "    \n",
    "# Create an instance of Manager\n",
    "manager = Manager(\"LOPAMUDRA DEY\", 21, \"7889\", \"SOFTWARE ENG\", 10)\n",
    "\n",
    "# Display the manager's information\n",
    "print(manager.display_manager_info())\n",
    "\n"
   ]
  },
  {
   "cell_type": "code",
   "execution_count": 18,
   "id": "83f38f64",
   "metadata": {},
   "outputs": [
    {
     "name": "stdout",
     "output_type": "stream",
     "text": [
      "Subscriber with 123456 id unsubscribed with Yearly plan\n"
     ]
    }
   ],
   "source": [
    "class OTTSubscription:\n",
    "    def __init__(self, subscription_id, plan, total_payment):\n",
    "        self.id = subscription_id\n",
    "        self.plan = plan\n",
    "        self.payment = total_payment\n",
    "    def subscribe(self): #We use Display functi\n",
    "        print(f\"subscriber with {self.id} id subscriberd with the {self.plan} plan\")\n",
    "        \n",
    "    def unsubscribe(self):\n",
    "        print(f\"Subscriber with {self.id} id unsubscribed with {self.plan} plan\")\n",
    "        \n",
    "class PremiumSubscription(OTTSubscription):\n",
    "        def __init__(self, subscription_id, plan, total_payment, screens):\n",
    "            super().__init__(subscription_id, plan, total_payment)\n",
    "            self.max_screens = screens\n",
    "        def set_max_screens(self, screens):\n",
    "            print(f\"maximum screen to set {self.max_screens} in the premium plan.!!!!\")\n",
    "            \n",
    "Hoichoi = PremiumSubscription(\"123456\", \"Yearly\", 1, 5)\n",
    "Hoichoi.unsubscribe()\n",
    "\n"
   ]
  },
  {
   "cell_type": "markdown",
   "id": "d3bed9e2",
   "metadata": {},
   "source": [
    "Create One base class OTTSubscription. \n",
    "And make a child class.\n"
   ]
  },
  {
   "cell_type": "markdown",
   "id": "fce0225c",
   "metadata": {},
   "source": [
    "<a id=\"1\"></a>\n",
    "<h2 style=\"color:#ff0000;font-size:30px;font-family:initial;text-align:center;\"><strong><strong style=\"color:#005aac;font-size:30px;font-family:initial;\"><b>Encapsulation</b><strong style=\"color:#ff0000;font-size:30px;font-family:initial;\">:</strong></strong></strong></h2>"
   ]
  },
  {
   "cell_type": "markdown",
   "id": "943ead35",
   "metadata": {},
   "source": [
    "For making security....!!!\n",
    "\n",
    "1.Single underscore(Protected)\n",
    "2.Double Underscore(private)\n",
    "\n"
   ]
  },
  {
   "cell_type": "code",
   "execution_count": null,
   "id": "2394a108",
   "metadata": {},
   "outputs": [],
   "source": [
    "\n"
   ]
  },
  {
   "cell_type": "markdown",
   "id": "5101fdb0",
   "metadata": {},
   "source": [
    "<a id=\"1\"></a>\n",
    "<h2 style=\"color:#ff0000;font-size:30px;font-family:initial;text-align:center;\"><strong><strong style=\"color:#005aac;font-size:30px;font-family:initial;\"><b>Abstraction</b><strong style=\"color:#ff0000;font-size:30px;font-family:initial;\">:</strong></strong></strong></h2>"
   ]
  },
  {
   "cell_type": "markdown",
   "id": "1fbf5e4d",
   "metadata": {},
   "source": [
    "--> HIDE INTERNAL IMPLEMENTATION. USER ONLY SHOW THE PROVIDED SERVICE."
   ]
  },
  {
   "cell_type": "code",
   "execution_count": 15,
   "id": "bd8390ff",
   "metadata": {},
   "outputs": [
    {
     "name": "stdout",
     "output_type": "stream",
     "text": [
      "Addition of two number: 50\n"
     ]
    }
   ],
   "source": [
    "def add():\n",
    "    a= 10\n",
    "    b= 40\n",
    "    print(\"Addition of two number:\", a+b)\n",
    "\n",
    "add()"
   ]
  },
  {
   "cell_type": "code",
   "execution_count": 13,
   "id": "62b11473",
   "metadata": {},
   "outputs": [
    {
     "name": "stdout",
     "output_type": "stream",
     "text": [
      "Subtraction of two numbers: 40\n"
     ]
    }
   ],
   "source": [
    "def sub():\n",
    "    a = 50\n",
    "    b = 10\n",
    "    print(\"Subtraction of two numbers:\", a-b)\n",
    "\n",
    "sub()\n"
   ]
  },
  {
   "cell_type": "code",
   "execution_count": 19,
   "id": "9c2eec53",
   "metadata": {},
   "outputs": [
    {
     "name": "stdout",
     "output_type": "stream",
     "text": [
      "We sent SMS to all!!....\n",
      "You scroll Reels!!...\n",
      "We sent SMS to all!!....\n",
      "The editing is so pretty!!!\n"
     ]
    }
   ],
   "source": [
    "\"\"\" Instagram class serves as an abstract base class (ABC). \n",
    "An abstract base class is meant to define a blueprint for other classes to inherit from. \n",
    "It typically contains one or more abstract methods that subclasses must implement.\"\"\"\n",
    "\n",
    "\"\"\"@abstractmethod is a decorator provided by the abc module. \n",
    "It marks a method as abstract within an abstract base class. \n",
    "Abstract methods are meant to be overridden by concrete subclasses; \n",
    "they don't have an implementation in the abstract base class itself.\"\"\"\n",
    "\n",
    "from abc import ABC, abstractmethod\n",
    "\n",
    "class Instagram(ABC):\n",
    "    def show(self):\n",
    "        print(\"We sent SMS to all!!....\")\n",
    "    \n",
    "    @abstractmethod\n",
    "    def reels(self):\n",
    "        pass\n",
    "    \n",
    "class Reels(Instagram):\n",
    "    def reels(self):\n",
    "        print(\"You scroll Reels!!...\")\n",
    "        \n",
    "class Comment(Instagram):\n",
    "    def reels(self):\n",
    "        print(\"The editing is so pretty!!!\")\n",
    "        \n",
    "# Creating instances and calling methods\n",
    "obj = Reels()\n",
    "obj.show()\n",
    "obj.reels()\n",
    "\n",
    "obj1 = Comment()\n",
    "obj1.show()\n",
    "obj1.reels()\n"
   ]
  },
  {
   "cell_type": "markdown",
   "id": "76f1543e",
   "metadata": {},
   "source": [
    "<a id=\"1\"></a>\n",
    "<h2 style=\"color:#ff0000;font-size:30px;font-family:initial;text-align:center;\"><strong><strong style=\"color:#005aac;font-size:30px;font-family:initial;\"><b>Interface</b><strong style=\"color:#ff0000;font-size:30px;font-family:initial;\">:</strong></strong></strong></h2>"
   ]
  },
  {
   "cell_type": "markdown",
   "id": "94f11bb3",
   "metadata": {},
   "source": [
    "# By playlist."
   ]
  },
  {
   "cell_type": "markdown",
   "id": "25f9fb58",
   "metadata": {},
   "source": [
    "# By playlist."
   ]
  },
  {
   "cell_type": "markdown",
   "id": "900965f6",
   "metadata": {},
   "source": [
    "<a id=\"1\"></a>\n",
    "<h2 style=\"color:#ff0000;font-size:30px;font-family:initial;text-align:center;\"><strong><strong style=\"color:#005aac;font-size:30px;font-family:initial;\"><b>Polymorphisam</b><strong style=\"color:#ff0000;font-size:30px;font-family:initial;\">:</strong></strong></strong></h2>"
   ]
  },
  {
   "cell_type": "markdown",
   "id": "66cef03e",
   "metadata": {},
   "source": [
    "# By Playlist"
   ]
  },
  {
   "cell_type": "code",
   "execution_count": null,
   "id": "e02f2f49",
   "metadata": {},
   "outputs": [],
   "source": []
  },
  {
   "cell_type": "code",
   "execution_count": null,
   "id": "cf08f192",
   "metadata": {},
   "outputs": [],
   "source": []
  }
 ],
 "metadata": {
  "kernelspec": {
   "display_name": "Python 3 (ipykernel)",
   "language": "python",
   "name": "python3"
  },
  "language_info": {
   "codemirror_mode": {
    "name": "ipython",
    "version": 3
   },
   "file_extension": ".py",
   "mimetype": "text/x-python",
   "name": "python",
   "nbconvert_exporter": "python",
   "pygments_lexer": "ipython3",
   "version": "3.11.5"
  }
 },
 "nbformat": 4,
 "nbformat_minor": 5
}
